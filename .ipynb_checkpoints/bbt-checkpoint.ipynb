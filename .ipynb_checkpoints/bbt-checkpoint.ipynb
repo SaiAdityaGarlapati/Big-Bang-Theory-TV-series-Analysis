{
 "cells": [
  {
   "cell_type": "code",
   "execution_count": 1,
   "metadata": {},
   "outputs": [],
   "source": [
    "import pandas as pd\n",
    "import bs4\n",
    "import selenium\n",
    "import requests\n",
    "from selenium import webdriver\n",
    "import re"
   ]
  },
  {
   "cell_type": "code",
   "execution_count": 2,
   "metadata": {},
   "outputs": [],
   "source": [
    "browser=webdriver.Chrome(\"chromedriver\")\n",
    "browser1=webdriver.Chrome(\"chromedriver\")\n",
    "url=\"https://bigbangtrans.wordpress.com/\"\n",
    "browser.get(url)"
   ]
  },
  {
   "cell_type": "code",
   "execution_count": 3,
   "metadata": {},
   "outputs": [],
   "source": [
    "bbt_urls=pd.DataFrame(columns=['season_eps','url'])"
   ]
  },
  {
   "cell_type": "markdown",
   "metadata": {},
   "source": [
    "Browsing through the main page and fetching the urls and storing into dataframe"
   ]
  },
  {
   "cell_type": "code",
   "execution_count": 4,
   "metadata": {},
   "outputs": [],
   "source": [
    "urls=browser.find_elements_by_css_selector('li.page_item')\n",
    "for url in urls:\n",
    "    se_ep=url.text\n",
    "    temp=url.find_element_by_css_selector('a').get_attribute('href')\n",
    "    bbt_urls=bbt_urls.append({'season_eps':se_ep,'url':temp},ignore_index=True)\n",
    "    "
   ]
  },
  {
   "cell_type": "markdown",
   "metadata": {},
   "source": [
    "Once Url fetching is done, looping through urls getting the relavent text and appending it into a new and final dataframe"
   ]
  },
  {
   "cell_type": "code",
   "execution_count": 8,
   "metadata": {},
   "outputs": [],
   "source": [
    "final=pd.DataFrame(columns=['season_eps','text'])"
   ]
  },
  {
   "cell_type": "code",
   "execution_count": 9,
   "metadata": {},
   "outputs": [],
   "source": [
    "for url,season in zip(bbt_urls.url,bbt_urls.season_eps):\n",
    "    browser1.get(url)\n",
    "    text=browser1.find_element_by_css_selector('div.entrytext').text\n",
    "    final=final.append({'season_eps':season,'text':text},ignore_index=True)"
   ]
  },
  {
   "cell_type": "code",
   "execution_count": null,
   "metadata": {},
   "outputs": [],
   "source": [
    "final.to_csv('bbt.csv')"
   ]
  },
  {
   "cell_type": "code",
   "execution_count": 14,
   "metadata": {},
   "outputs": [
    {
     "data": {
      "text/html": [
       "<div>\n",
       "<style scoped>\n",
       "    .dataframe tbody tr th:only-of-type {\n",
       "        vertical-align: middle;\n",
       "    }\n",
       "\n",
       "    .dataframe tbody tr th {\n",
       "        vertical-align: top;\n",
       "    }\n",
       "\n",
       "    .dataframe thead th {\n",
       "        text-align: right;\n",
       "    }\n",
       "</style>\n",
       "<table border=\"1\" class=\"dataframe\">\n",
       "  <thead>\n",
       "    <tr style=\"text-align: right;\">\n",
       "      <th></th>\n",
       "      <th>season_eps</th>\n",
       "      <th>text</th>\n",
       "    </tr>\n",
       "  </thead>\n",
       "  <tbody>\n",
       "    <tr>\n",
       "      <th>0</th>\n",
       "      <td>About</td>\n",
       "      <td>Hi Folks.\\nThis is Ash here, and I administer ...</td>\n",
       "    </tr>\n",
       "    <tr>\n",
       "      <th>1</th>\n",
       "      <td>Series 01 Episode 01 – Pilot Episode</td>\n",
       "      <td>Scene: A corridor at a sperm bank.\\nSheldon: S...</td>\n",
       "    </tr>\n",
       "    <tr>\n",
       "      <th>2</th>\n",
       "      <td>Series 01 Episode 02 – The Big Bran Hypothesis</td>\n",
       "      <td>Scene: Sheldon and Leonard’s apartment. Sheldo...</td>\n",
       "    </tr>\n",
       "    <tr>\n",
       "      <th>3</th>\n",
       "      <td>Series 01 Episode 03 – The Fuzzy Boots Corollary</td>\n",
       "      <td>Scene: Sheldon and Leonard’s apartment. Sheldo...</td>\n",
       "    </tr>\n",
       "    <tr>\n",
       "      <th>4</th>\n",
       "      <td>Series 01 Episode 04 – The Luminous Fish Effect</td>\n",
       "      <td>Scene: Sheldon and Leonard’s apartment.\\nSheld...</td>\n",
       "    </tr>\n",
       "  </tbody>\n",
       "</table>\n",
       "</div>"
      ],
      "text/plain": [
       "                                         season_eps  \\\n",
       "0                                             About   \n",
       "1              Series 01 Episode 01 – Pilot Episode   \n",
       "2    Series 01 Episode 02 – The Big Bran Hypothesis   \n",
       "3  Series 01 Episode 03 – The Fuzzy Boots Corollary   \n",
       "4   Series 01 Episode 04 – The Luminous Fish Effect   \n",
       "\n",
       "                                                text  \n",
       "0  Hi Folks.\\nThis is Ash here, and I administer ...  \n",
       "1  Scene: A corridor at a sperm bank.\\nSheldon: S...  \n",
       "2  Scene: Sheldon and Leonard’s apartment. Sheldo...  \n",
       "3  Scene: Sheldon and Leonard’s apartment. Sheldo...  \n",
       "4  Scene: Sheldon and Leonard’s apartment.\\nSheld...  "
      ]
     },
     "execution_count": 14,
     "metadata": {},
     "output_type": "execute_result"
    }
   ],
   "source": [
    "final.head()"
   ]
  },
  {
   "cell_type": "code",
   "execution_count": 20,
   "metadata": {},
   "outputs": [],
   "source": [
    "#final['dialouge_list']=final['text'].split(\"\\n\")\n",
    "k=[]\n",
    "\n",
    "for i in range(final.shape[0]):\n",
    "    l=[]\n",
    "    l = final[\"text\"].iloc[i].split(\"\\n\")\n",
    "    k.append(l)"
   ]
  },
  {
   "cell_type": "code",
   "execution_count": 22,
   "metadata": {},
   "outputs": [],
   "source": [
    "final['dialouges_list'] = k"
   ]
  },
  {
   "cell_type": "code",
   "execution_count": 23,
   "metadata": {},
   "outputs": [],
   "source": [
    "dialouge = pd.DataFrame(columns =['episode_no','dialouge'])"
   ]
  },
  {
   "cell_type": "code",
   "execution_count": 26,
   "metadata": {},
   "outputs": [],
   "source": [
    "for i,j in zip(final['season_eps'],final['dialouges_list']):\n",
    "    for k in j:\n",
    "        dialouge=dialouge.append({'episode_no':i,'dialouge':k},ignore_index=True)"
   ]
  },
  {
   "cell_type": "code",
   "execution_count": 28,
   "metadata": {},
   "outputs": [],
   "source": [
    "dialouge.to_csv(\"bbt_dialouges.csv\")"
   ]
  },
  {
   "cell_type": "code",
   "execution_count": 29,
   "metadata": {},
   "outputs": [],
   "source": [
    "d=pd.read_csv(\"bbt_dialouges.csv\")"
   ]
  },
  {
   "cell_type": "code",
   "execution_count": 31,
   "metadata": {},
   "outputs": [
    {
     "data": {
      "text/html": [
       "<div>\n",
       "<style scoped>\n",
       "    .dataframe tbody tr th:only-of-type {\n",
       "        vertical-align: middle;\n",
       "    }\n",
       "\n",
       "    .dataframe tbody tr th {\n",
       "        vertical-align: top;\n",
       "    }\n",
       "\n",
       "    .dataframe thead th {\n",
       "        text-align: right;\n",
       "    }\n",
       "</style>\n",
       "<table border=\"1\" class=\"dataframe\">\n",
       "  <thead>\n",
       "    <tr style=\"text-align: right;\">\n",
       "      <th></th>\n",
       "      <th>Unnamed: 0</th>\n",
       "      <th>episode_no</th>\n",
       "      <th>dialouge</th>\n",
       "    </tr>\n",
       "  </thead>\n",
       "  <tbody>\n",
       "    <tr>\n",
       "      <th>0</th>\n",
       "      <td>0</td>\n",
       "      <td>About</td>\n",
       "      <td>Hi Folks.</td>\n",
       "    </tr>\n",
       "    <tr>\n",
       "      <th>1</th>\n",
       "      <td>1</td>\n",
       "      <td>About</td>\n",
       "      <td>This is Ash here, and I administer this web pa...</td>\n",
       "    </tr>\n",
       "    <tr>\n",
       "      <th>2</th>\n",
       "      <td>2</td>\n",
       "      <td>About</td>\n",
       "      <td>Now, I know some of you are disappointed when ...</td>\n",
       "    </tr>\n",
       "    <tr>\n",
       "      <th>3</th>\n",
       "      <td>3</td>\n",
       "      <td>About</td>\n",
       "      <td>See, this isn’t my full time job (no, duh!) It...</td>\n",
       "    </tr>\n",
       "    <tr>\n",
       "      <th>4</th>\n",
       "      <td>4</td>\n",
       "      <td>About</td>\n",
       "      <td>Anyway, for a living, I am actually a performe...</td>\n",
       "    </tr>\n",
       "    <tr>\n",
       "      <th>5</th>\n",
       "      <td>5</td>\n",
       "      <td>About</td>\n",
       "      <td>So you see that really, September through Nove...</td>\n",
       "    </tr>\n",
       "    <tr>\n",
       "      <th>6</th>\n",
       "      <td>6</td>\n",
       "      <td>About</td>\n",
       "      <td>I’m glad people like the site, and it seems li...</td>\n",
       "    </tr>\n",
       "    <tr>\n",
       "      <th>7</th>\n",
       "      <td>7</td>\n",
       "      <td>About</td>\n",
       "      <td>Advertisements</td>\n",
       "    </tr>\n",
       "    <tr>\n",
       "      <th>8</th>\n",
       "      <td>8</td>\n",
       "      <td>About</td>\n",
       "      <td>REPORT THIS AD</td>\n",
       "    </tr>\n",
       "    <tr>\n",
       "      <th>9</th>\n",
       "      <td>9</td>\n",
       "      <td>About</td>\n",
       "      <td>REPORT THIS AD</td>\n",
       "    </tr>\n",
       "    <tr>\n",
       "      <th>10</th>\n",
       "      <td>10</td>\n",
       "      <td>Series 01 Episode 01 – Pilot Episode</td>\n",
       "      <td>Scene: A corridor at a sperm bank.</td>\n",
       "    </tr>\n",
       "    <tr>\n",
       "      <th>11</th>\n",
       "      <td>11</td>\n",
       "      <td>Series 01 Episode 01 – Pilot Episode</td>\n",
       "      <td>Sheldon: So if a photon is directed through a ...</td>\n",
       "    </tr>\n",
       "    <tr>\n",
       "      <th>12</th>\n",
       "      <td>12</td>\n",
       "      <td>Series 01 Episode 01 – Pilot Episode</td>\n",
       "      <td>Leonard: Agreed, what’s your point?</td>\n",
       "    </tr>\n",
       "    <tr>\n",
       "      <th>13</th>\n",
       "      <td>13</td>\n",
       "      <td>Series 01 Episode 01 – Pilot Episode</td>\n",
       "      <td>Sheldon: There’s no point, I just think it’s a...</td>\n",
       "    </tr>\n",
       "    <tr>\n",
       "      <th>14</th>\n",
       "      <td>14</td>\n",
       "      <td>Series 01 Episode 01 – Pilot Episode</td>\n",
       "      <td>Leonard: Excuse me?</td>\n",
       "    </tr>\n",
       "    <tr>\n",
       "      <th>15</th>\n",
       "      <td>15</td>\n",
       "      <td>Series 01 Episode 01 – Pilot Episode</td>\n",
       "      <td>Receptionist: Hang on.</td>\n",
       "    </tr>\n",
       "    <tr>\n",
       "      <th>16</th>\n",
       "      <td>16</td>\n",
       "      <td>Series 01 Episode 01 – Pilot Episode</td>\n",
       "      <td>Leonard: One across is Aegean, eight down is N...</td>\n",
       "    </tr>\n",
       "    <tr>\n",
       "      <th>17</th>\n",
       "      <td>17</td>\n",
       "      <td>Series 01 Episode 01 – Pilot Episode</td>\n",
       "      <td>Receptionist: Can I help you?</td>\n",
       "    </tr>\n",
       "    <tr>\n",
       "      <th>18</th>\n",
       "      <td>18</td>\n",
       "      <td>Series 01 Episode 01 – Pilot Episode</td>\n",
       "      <td>Leonard: Yes. Um, is this the High IQ sperm bank?</td>\n",
       "    </tr>\n",
       "    <tr>\n",
       "      <th>19</th>\n",
       "      <td>19</td>\n",
       "      <td>Series 01 Episode 01 – Pilot Episode</td>\n",
       "      <td>Receptionist: If you have to ask, maybe you sh...</td>\n",
       "    </tr>\n",
       "  </tbody>\n",
       "</table>\n",
       "</div>"
      ],
      "text/plain": [
       "    Unnamed: 0                            episode_no  \\\n",
       "0            0                                 About   \n",
       "1            1                                 About   \n",
       "2            2                                 About   \n",
       "3            3                                 About   \n",
       "4            4                                 About   \n",
       "5            5                                 About   \n",
       "6            6                                 About   \n",
       "7            7                                 About   \n",
       "8            8                                 About   \n",
       "9            9                                 About   \n",
       "10          10  Series 01 Episode 01 – Pilot Episode   \n",
       "11          11  Series 01 Episode 01 – Pilot Episode   \n",
       "12          12  Series 01 Episode 01 – Pilot Episode   \n",
       "13          13  Series 01 Episode 01 – Pilot Episode   \n",
       "14          14  Series 01 Episode 01 – Pilot Episode   \n",
       "15          15  Series 01 Episode 01 – Pilot Episode   \n",
       "16          16  Series 01 Episode 01 – Pilot Episode   \n",
       "17          17  Series 01 Episode 01 – Pilot Episode   \n",
       "18          18  Series 01 Episode 01 – Pilot Episode   \n",
       "19          19  Series 01 Episode 01 – Pilot Episode   \n",
       "\n",
       "                                             dialouge  \n",
       "0                                           Hi Folks.  \n",
       "1   This is Ash here, and I administer this web pa...  \n",
       "2   Now, I know some of you are disappointed when ...  \n",
       "3   See, this isn’t my full time job (no, duh!) It...  \n",
       "4   Anyway, for a living, I am actually a performe...  \n",
       "5   So you see that really, September through Nove...  \n",
       "6   I’m glad people like the site, and it seems li...  \n",
       "7                                      Advertisements  \n",
       "8                                      REPORT THIS AD  \n",
       "9                                      REPORT THIS AD  \n",
       "10                 Scene: A corridor at a sperm bank.  \n",
       "11  Sheldon: So if a photon is directed through a ...  \n",
       "12                Leonard: Agreed, what’s your point?  \n",
       "13  Sheldon: There’s no point, I just think it’s a...  \n",
       "14                                Leonard: Excuse me?  \n",
       "15                             Receptionist: Hang on.  \n",
       "16  Leonard: One across is Aegean, eight down is N...  \n",
       "17                      Receptionist: Can I help you?  \n",
       "18  Leonard: Yes. Um, is this the High IQ sperm bank?  \n",
       "19  Receptionist: If you have to ask, maybe you sh...  "
      ]
     },
     "execution_count": 31,
     "metadata": {},
     "output_type": "execute_result"
    }
   ],
   "source": [
    "d.head(20)"
   ]
  }
 ],
 "metadata": {
  "kernelspec": {
   "display_name": "Python 3",
   "language": "python",
   "name": "python3"
  },
  "language_info": {
   "codemirror_mode": {
    "name": "ipython",
    "version": 3
   },
   "file_extension": ".py",
   "mimetype": "text/x-python",
   "name": "python",
   "nbconvert_exporter": "python",
   "pygments_lexer": "ipython3",
   "version": "3.6.8"
  }
 },
 "nbformat": 4,
 "nbformat_minor": 2
}
