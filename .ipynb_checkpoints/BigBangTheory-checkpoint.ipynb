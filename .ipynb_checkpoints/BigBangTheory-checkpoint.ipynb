{
 "cells": [
  {
   "cell_type": "code",
   "execution_count": null,
   "metadata": {},
   "outputs": [],
   "source": [
    "#!pip install bs4"
   ]
  },
  {
   "cell_type": "code",
   "execution_count": 4,
   "metadata": {},
   "outputs": [],
   "source": [
    "import pandas as pd\n",
    "#import bs4\n",
    "#import selenium\n",
    "import requests\n",
    "#from selenium import webdriver\n",
    "import re"
   ]
  },
  {
   "cell_type": "code",
   "execution_count": 2,
   "metadata": {},
   "outputs": [],
   "source": [
    "browser=webdriver.Chrome(\"chromedriver\")\n",
    "browser1=webdriver.Chrome(\"chromedriver\")\n",
    "url=\"https://bigbangtrans.wordpress.com/\"\n",
    "browser.get(url)"
   ]
  },
  {
   "cell_type": "code",
   "execution_count": 3,
   "metadata": {},
   "outputs": [],
   "source": [
    "bbt_urls=pd.DataFrame(columns=['season_eps','url'])"
   ]
  },
  {
   "cell_type": "markdown",
   "metadata": {},
   "source": [
    "Browsing through the main page and fetching the urls and storing into dataframe"
   ]
  },
  {
   "cell_type": "code",
   "execution_count": 4,
   "metadata": {},
   "outputs": [],
   "source": [
    "urls=browser.find_elements_by_css_selector('li.page_item')\n",
    "for url in urls:\n",
    "    se_ep=url.text\n",
    "    temp=url.find_element_by_css_selector('a').get_attribute('href')\n",
    "    bbt_urls=bbt_urls.append({'season_eps':se_ep,'url':temp},ignore_index=True)\n",
    "    "
   ]
  },
  {
   "cell_type": "markdown",
   "metadata": {},
   "source": [
    "Once Url fetching is done, looping through urls getting the relavent text and appending it into a new and final dataframe"
   ]
  },
  {
   "cell_type": "code",
   "execution_count": 5,
   "metadata": {},
   "outputs": [],
   "source": [
    "final=pd.DataFrame(columns=['season_eps','text'])"
   ]
  },
  {
   "cell_type": "code",
   "execution_count": 6,
   "metadata": {},
   "outputs": [],
   "source": [
    "for url,season in zip(bbt_urls.url,bbt_urls.season_eps):\n",
    "0    browser1.get(url)\n",
    "    text=browser1.find_element_by_css_selector('div.entrytext').text\n",
    "    final=final.append({'season_eps':season,'text':text},ignore_index=True)"
   ]
  },
  {
   "cell_type": "code",
   "execution_count": 7,
   "metadata": {},
   "outputs": [],
   "source": [
    "final.to_csv('bbt.csv')"
   ]
  },
  {
   "cell_type": "code",
   "execution_count": 8,
   "metadata": {},
   "outputs": [
    {
     "data": {
      "text/plain": [
       "Index(['season_eps', 'text'], dtype='object')"
      ]
     },
     "execution_count": 8,
     "metadata": {},
     "output_type": "execute_result"
    }
   ],
   "source": [
    "final.columns"
   ]
  },
  {
   "cell_type": "code",
   "execution_count": 10,
   "metadata": {},
   "outputs": [
    {
     "data": {
      "text/plain": [
       "232"
      ]
     },
     "execution_count": 10,
     "metadata": {},
     "output_type": "execute_result"
    }
   ],
   "source": [
    "final.shape[0]"
   ]
  },
  {
   "cell_type": "code",
   "execution_count": 5,
   "metadata": {},
   "outputs": [],
   "source": [
    "final = pd.read_csv('bbt.csv')"
   ]
  },
  {
   "cell_type": "code",
   "execution_count": 16,
   "metadata": {},
   "outputs": [],
   "source": [
    "\n",
    "for i,j in zip(final['season_eps'],final['text']):\n",
    "    i = i.replace(\"/\", \"\")\n",
    "    f = open(i+\".txt\", \"w\")\n",
    "    f.write(str(j.encode(\"utf-8\")))\n"
   ]
  },
  {
   "cell_type": "code",
   "execution_count": 17,
   "metadata": {},
   "outputs": [
    {
     "data": {
      "text/plain": [
       "<function TextIOWrapper.close()>"
      ]
     },
     "execution_count": 17,
     "metadata": {},
     "output_type": "execute_result"
    }
   ],
   "source": [
    "f.close"
   ]
  },
  {
   "cell_type": "code",
   "execution_count": 6,
   "metadata": {},
   "outputs": [
    {
     "data": {
      "text/plain": [
       "0    Hi Folks.\\r\\nThis is Ash here, and I administe...\n",
       "1    Scene: A corridor at a sperm bank.\\r\\nSheldon:...\n",
       "2    Scene: Sheldon and Leonard’s apartment. Sheldo...\n",
       "3    Scene: Sheldon and Leonard’s apartment. Sheldo...\n",
       "4    Scene: Sheldon and Leonard’s apartment.\\r\\nShe...\n",
       "Name: text, dtype: object"
      ]
     },
     "execution_count": 6,
     "metadata": {},
     "output_type": "execute_result"
    }
   ],
   "source": [
    "final['text'].head()"
   ]
  },
  {
   "cell_type": "code",
   "execution_count": 8,
   "metadata": {},
   "outputs": [
    {
     "data": {
      "text/plain": [
       "0    hi folks.this is ash here, and i administer th...\n",
       "1    scene: a corridor at a sperm bank.sheldon: so ...\n",
       "2    scene: sheldon and leonards apartment. sheldon...\n",
       "3    scene: sheldon and leonards apartment. sheldon...\n",
       "4    scene: sheldon and leonards apartment.sheldon:...\n",
       "Name: text, dtype: object"
      ]
     },
     "execution_count": 8,
     "metadata": {},
     "output_type": "execute_result"
    }
   ],
   "source": [
    "docs =final['text'].fillna('').str.lower()\n",
    "docs = docs.str.replace('[^a-z,.: ]','')\n",
    "docs.head()"
   ]
  },
  {
   "cell_type": "code",
   "execution_count": 10,
   "metadata": {},
   "outputs": [],
   "source": [
    "x = pd.Series(['Fill these out.\\nLeonard: Thank-you. We\\xe2\\x80\\x99ll be right back.\\nReceptionist: Oh, take your time. I\\xe2\\x80\\x99ll just finish my crossword puzzle. Oh wait.\\n(They sit and begin to fill in forms).\\nSheldon: Leonard, I don\\xe2\\x80\\x99t think I can do this.\\nLeonard: What, are you kidding? You\\xe2\\x80\\x99re a semi-pro.\\nSheldon: No. We are committing genetic fraud. There\\xe2\\x80\\x99s no guarantee that our sperm is going to generate high IQ offspring, think about that. I have a sister with the same basic DNA mix who hostesses at Fuddruckers.\\nLeonard: Sheldon, this was your idea. A little extra money to get fractional T1 bandwidth in the apartment.\\nSheldon: I know, and I do yearn for faster downloads, but there\\xe2\\x80\\x99s some poor woman is going to pin her hopes on my sperm, what if she winds up with a toddler who doesn\\xe2\\x80\\x99t know if he should use an integral or a differential to solve the area under a curve.\\nLeonard: I\\xe2\\x80\\x99m sure she\\xe2\\x80\\x99ll still love him.\\nSheldon: I wouldn\\xe2\\x80\\x99t.\\nLeonard: Well, what do you want to do?\\nSheldon: I want to leave.\\nLeonard: Okay.\\nSheldon: What\\xe2\\x80\\x99s the protocol for leaving?\\nLeonard: I don\\xe2\\x80\\x99t know, I\\xe2\\x80\\x99ve never reneged on a proffer of sperm before.\\nSheldon: Let\\xe2\\x80\\x99s try just walking out.\\nLeonard: Okay.\\n\\nReceptionist: Bye.\\nSheldon: Bye-bye\\nLeonard: See you.\\nScene: The stairs of the apartment building.\\nSheldon: Are you still mad about the sperm bank?\\nLeonard: No.\\nSheldon: You want to hear an interesting thing about stairs?\\nLeonard: Not really.\\nSheldon: If the height of a single step is off by as little as two millimetres, most people will trip.\\nLeonard: I don\\xe2\\x80\\x99t care. Two millimetres? That doesn\\xe2\\x80\\x99t seem right.\\nSheldon: No, it\\xe2\\x80\\x99s true, I did a series of experiments when I was twelve, my father broke his clavicle.\\nLeonard: Is that why they sent you to boarding school?\\nSheldon: No, that was the result of my work with lasers.\\nLeonard: New neighbour?\\nSheldon: Evidently.\\nLeonard: Significant improvement over the old neighbour.\\nSheldon: Two hundred pound transvestite with a skin condition, yes she is.\\nPenny: Oh, hi!\\nLeonard: Hi.\\nSheldon: Hi.\\nLeonard: Hi.\\nSheldon: Hi.\\nPenny: Hi?\\nLeonard: We don\\xe2\\x80\\x99t mean to interrupt, we live across the hall.\\nPenny: Oh, that\\xe2\\x80\\x99s nice.\\nLeonard: Oh\\xe2\\x80\\xa6 uh\\xe2\\x80\\xa6 no\\xe2\\x80\\xa6 we don\\xe2\\x80\\x99t live together\\xe2\\x80\\xa6 um\\xe2\\x80\\xa6 we live together but in separate, heterosexual bedrooms.\\nPenny: Oh, okay, well, guess I\\xe2\\x80\\x99m your new neighbour, Penny.\\nLeonard: Leonard, Sheldon.\\nPenny: Hi.\\nLeonard: Hi.\\nSheldon: Hi.\\nPenny: Hi.\\nLeonard: Hi. Well, uh, oh, welcome to the building.\\nPenny: Thankyou, maybe we can have coffee sometime.\\nLeonard: Oh, great.\\nPenny: Great.\\nSheldon: Great.\\nLeonard: Great. Well, bye.\\nPenny: Bye.\\nSheldon: Bye.\\nLeonard: Bye.\\nLeonard: Should we have invited her for lunch?\\nSheldon: No. We\\xe2\\x80\\x99re going to start Season Two of Battlestar Galactica.\\nLeonard: We already watched the Season Two DVDs.\\nSheldon: Not with commentary.\\nLeonard: I think we should be good neighbours, invite her over, make her feel welcome.\\nSheldon: We never invited Louis-slash-Louise over.\\nLeonard: Well, then that was wrong of us. We need to widen our circle.\\nSheldon: I have a very wide circle. I have 212 friends on myspace.\\nLeonard: Yes, and you\\xe2\\x80\\x99ve never met one of them.\\nSheldon: That\\xe2\\x80\\x99s the beauty of it.\\nLeonard: I\\xe2\\x80\\x99m going to invite her over. We\\xe2\\x80\\x99ll have a nice meal and chat.\\nSheldon: Chat? We don\\xe2\\x80\\x99t chat. At least not offline.\\nLeonard: Well it\\xe2\\x80\\x99s not difficult, you just listen to what she says and then you say something appropriate in response.\\nSheldon: To what end?\\nLeonard: Hi. Again.\\nPenny: Hi.\\nSheldon: Hi.\\nLeonard: Hi.\\nPenny: Hi.\\nLeonard: Anyway, um. We brought home Indian food. And, um. I know that moving can be stressful, and I find that when I\\xe2\\x80\\x99m undergoing stress, that good food and company can have a comforting effect. Also, curry is a natural laxative, and I don\\xe2\\x80\\x99t have to tell you that, uh, a clean colon is just one less thing to worry about.\\nSheldon: Leonard, I\\xe2\\x80\\x99m not expert here but I believe in the context of a luncheon invitation, you might want to skip the reference to bowel movements.\\nPenny: Oh, you\\xe2\\x80\\x99re inviting me over to eat?\\nLeonard: Uh, yes.\\nPenny: Oh, that\\xe2\\x80\\x99s so nice, I\\xe2\\x80\\x99d love to.\\nLeonard: Great.\\nPenny: So, what do you guys do for fun around here?\\nSheldon: Well, today we tried masturbating for money.\\nCredits sequence.\\nScene: Sheldon and Leonard\\xe2\\x80\\x99s apartment.\\nLeonard: Okay, well, make yourself at home.\\nPenny: Okay, thankyou.\\nLeonard: You\\xe2\\x80\\x99re very welcome.\\nPenny: This looks like some serious stuff, Leonard, did you do this?\\nSheldon: Actually that\\xe2\\x80\\x99s my work.\\nPenny: Wow.\\nSheldon: Yeah, well, it\\xe2\\x80\\x99s just some quantum mechanics, with a little string theory doodling around the edges. That part there, that\\xe2\\x80\\x99s just a joke, it\\xe2\\x80\\x99s a spoof of the Bourne-Oppenheimer approximation.\\nPenny: So you\\xe2\\x80\\x99re like, one of those, beautiful mind genius guys.\\nSheldon: Yeah.\\nPenny: This is really impressive.\\nLeonard: I have a board. If you like boards, this is my board.\\nPenny: Holy smokes.\\nSheldon: If by holy smokes you mean a derivative restatement of the kind of stuff you can find scribbled on the wall of any men\\xe2\\x80\\x99s room at MIT, sure.\\nLeonard: What?\\nSheldon: Oh, come on. Who hasn\\xe2\\x80\\x99t seen this differential below \\xe2\\x80\\x9chere I sit broken hearted?\\xe2\\x80\\x9d\\nLeonard: At least I didn\\xe2\\x80\\x99t have to invent twenty-six dimensions just to make the math come out.\\nSheldon: I didn\\xe2\\x80\\x99t invent them, they\\xe2\\x80\\x99re there.\\nLeonard: In what universe?\\nSheldon: In all of them, that is the point.\\nPenny: Uh, do you guys mind if I start?\\nSheldon: Um, Penny, that\\xe2\\x80\\x99s where I sit.\\nPenny: So, sit next to me.\\nSheldon: No, I sit there.\\nPenny: What\\xe2\\x80\\x99s the difference?\\nSheldon: What\\xe2\\x80\\x99s the difference?\\nLeonard: Here we go.\\nSheldon: In the winter that seat is close enough to the radiator to remain warm, and yet not so close as to cause perspiration. In the summer it\\xe2\\x80\\x99s directly in the path of a cross breeze created by open windows there, and there. It faces the television at an angle that is neither direct, thus discouraging conversation, nor so far wide to create a parallax distortion, I could go on, but I think I\\xe2\\x80\\x99ve made my point.\\nPenny: Do you want me to move?\\nSheldon: Well.\\nLeonard: Just sit somewhere else.\\nSheldon: Fine. (Wanders in circles, looking lost.)\\nLeonard: Sheldon, sit!\\nSheldon: Aaah!\\nLeonard: Well this is nice. We don\\xe2\\x80\\x99t have a lot of company over.\\nSheldon: That\\xe2\\x80\\x99s not true. Koothrapali and Wolowitz come over all the time.\\nLeonard: Yes I now, but\\xe2\\x80\\xa6\\nSheldon: Tuesday night we played Klingon boggle until one in the morning.\\nLeonard: Yes, I remember.\\nSheldon: I resent you saying we don\\xe2\\x80\\x99t'])"
   ]
  },
  {
   "cell_type": "code",
   "execution_count": 26,
   "metadata": {},
   "outputs": [
    {
     "data": {
      "text/plain": [
       "'Fill these out.\\nLeonard: Thank-you. Weâ\\x80\\x99ll be right back.\\nReceptionist: Oh, take your time. Iâ\\x80\\x99ll '"
      ]
     },
     "execution_count": 26,
     "metadata": {},
     "output_type": "execute_result"
    }
   ],
   "source": [
    "x.values[0][:100]"
   ]
  },
  {
   "cell_type": "code",
   "execution_count": 32,
   "metadata": {},
   "outputs": [],
   "source": [
    "x=x.str.replace('â\\x80\\x99', \"'\").values[0]\n"
   ]
  },
  {
   "cell_type": "code",
   "execution_count": 33,
   "metadata": {},
   "outputs": [],
   "source": [
    "x=x.split('\\n')"
   ]
  },
  {
   "cell_type": "code",
   "execution_count": 34,
   "metadata": {},
   "outputs": [
    {
     "data": {
      "text/plain": [
       "['Fill these out.',\n",
       " \"Leonard: Thank-you. We'll be right back.\",\n",
       " \"Receptionist: Oh, take your time. I'll just finish my crossword puzzle. Oh wait.\",\n",
       " '(They sit and begin to fill in forms).',\n",
       " \"Sheldon: Leonard, I don't think I can do this.\",\n",
       " \"Leonard: What, are you kidding? You're a semi-pro.\",\n",
       " \"Sheldon: No. We are committing genetic fraud. There's no guarantee that our sperm is going to generate high IQ offspring, think about that. I have a sister with the same basic DNA mix who hostesses at Fuddruckers.\",\n",
       " 'Leonard: Sheldon, this was your idea. A little extra money to get fractional T1 bandwidth in the apartment.',\n",
       " \"Sheldon: I know, and I do yearn for faster downloads, but there's some poor woman is going to pin her hopes on my sperm, what if she winds up with a toddler who doesn't know if he should use an integral or a differential to solve the area under a curve.\",\n",
       " \"Leonard: I'm sure she'll still love him.\",\n",
       " \"Sheldon: I wouldn't.\",\n",
       " 'Leonard: Well, what do you want to do?',\n",
       " 'Sheldon: I want to leave.',\n",
       " 'Leonard: Okay.',\n",
       " \"Sheldon: What's the protocol for leaving?\",\n",
       " \"Leonard: I don't know, I've never reneged on a proffer of sperm before.\",\n",
       " \"Sheldon: Let's try just walking out.\",\n",
       " 'Leonard: Okay.',\n",
       " '',\n",
       " 'Receptionist: Bye.',\n",
       " 'Sheldon: Bye-bye',\n",
       " 'Leonard: See you.',\n",
       " 'Scene: The stairs of the apartment building.',\n",
       " 'Sheldon: Are you still mad about the sperm bank?',\n",
       " 'Leonard: No.',\n",
       " 'Sheldon: You want to hear an interesting thing about stairs?',\n",
       " 'Leonard: Not really.',\n",
       " 'Sheldon: If the height of a single step is off by as little as two millimetres, most people will trip.',\n",
       " \"Leonard: I don't care. Two millimetres? That doesn't seem right.\",\n",
       " \"Sheldon: No, it's true, I did a series of experiments when I was twelve, my father broke his clavicle.\",\n",
       " 'Leonard: Is that why they sent you to boarding school?',\n",
       " 'Sheldon: No, that was the result of my work with lasers.',\n",
       " 'Leonard: New neighbour?',\n",
       " 'Sheldon: Evidently.',\n",
       " 'Leonard: Significant improvement over the old neighbour.',\n",
       " 'Sheldon: Two hundred pound transvestite with a skin condition, yes she is.',\n",
       " 'Penny: Oh, hi!',\n",
       " 'Leonard: Hi.',\n",
       " 'Sheldon: Hi.',\n",
       " 'Leonard: Hi.',\n",
       " 'Sheldon: Hi.',\n",
       " 'Penny: Hi?',\n",
       " \"Leonard: We don't mean to interrupt, we live across the hall.\",\n",
       " \"Penny: Oh, that's nice.\",\n",
       " \"Leonard: Ohâ\\x80¦ uhâ\\x80¦ noâ\\x80¦ we don't live togetherâ\\x80¦ umâ\\x80¦ we live together but in separate, heterosexual bedrooms.\",\n",
       " \"Penny: Oh, okay, well, guess I'm your new neighbour, Penny.\",\n",
       " 'Leonard: Leonard, Sheldon.',\n",
       " 'Penny: Hi.',\n",
       " 'Leonard: Hi.',\n",
       " 'Sheldon: Hi.',\n",
       " 'Penny: Hi.',\n",
       " 'Leonard: Hi. Well, uh, oh, welcome to the building.',\n",
       " 'Penny: Thankyou, maybe we can have coffee sometime.',\n",
       " 'Leonard: Oh, great.',\n",
       " 'Penny: Great.',\n",
       " 'Sheldon: Great.',\n",
       " 'Leonard: Great. Well, bye.',\n",
       " 'Penny: Bye.',\n",
       " 'Sheldon: Bye.',\n",
       " 'Leonard: Bye.',\n",
       " 'Leonard: Should we have invited her for lunch?',\n",
       " \"Sheldon: No. We're going to start Season Two of Battlestar Galactica.\",\n",
       " 'Leonard: We already watched the Season Two DVDs.',\n",
       " 'Sheldon: Not with commentary.',\n",
       " 'Leonard: I think we should be good neighbours, invite her over, make her feel welcome.',\n",
       " 'Sheldon: We never invited Louis-slash-Louise over.',\n",
       " 'Leonard: Well, then that was wrong of us. We need to widen our circle.',\n",
       " 'Sheldon: I have a very wide circle. I have 212 friends on myspace.',\n",
       " \"Leonard: Yes, and you've never met one of them.\",\n",
       " \"Sheldon: That's the beauty of it.\",\n",
       " \"Leonard: I'm going to invite her over. We'll have a nice meal and chat.\",\n",
       " \"Sheldon: Chat? We don't chat. At least not offline.\",\n",
       " \"Leonard: Well it's not difficult, you just listen to what she says and then you say something appropriate in response.\",\n",
       " 'Sheldon: To what end?',\n",
       " 'Leonard: Hi. Again.',\n",
       " 'Penny: Hi.',\n",
       " 'Sheldon: Hi.',\n",
       " 'Leonard: Hi.',\n",
       " 'Penny: Hi.',\n",
       " \"Leonard: Anyway, um. We brought home Indian food. And, um. I know that moving can be stressful, and I find that when I'm undergoing stress, that good food and company can have a comforting effect. Also, curry is a natural laxative, and I don't have to tell you that, uh, a clean colon is just one less thing to worry about.\",\n",
       " \"Sheldon: Leonard, I'm not expert here but I believe in the context of a luncheon invitation, you might want to skip the reference to bowel movements.\",\n",
       " \"Penny: Oh, you're inviting me over to eat?\",\n",
       " 'Leonard: Uh, yes.',\n",
       " \"Penny: Oh, that's so nice, I'd love to.\",\n",
       " 'Leonard: Great.',\n",
       " 'Penny: So, what do you guys do for fun around here?',\n",
       " 'Sheldon: Well, today we tried masturbating for money.',\n",
       " 'Credits sequence.',\n",
       " \"Scene: Sheldon and Leonard's apartment.\",\n",
       " 'Leonard: Okay, well, make yourself at home.',\n",
       " 'Penny: Okay, thankyou.',\n",
       " \"Leonard: You're very welcome.\",\n",
       " 'Penny: This looks like some serious stuff, Leonard, did you do this?',\n",
       " \"Sheldon: Actually that's my work.\",\n",
       " 'Penny: Wow.',\n",
       " \"Sheldon: Yeah, well, it's just some quantum mechanics, with a little string theory doodling around the edges. That part there, that's just a joke, it's a spoof of the Bourne-Oppenheimer approximation.\",\n",
       " \"Penny: So you're like, one of those, beautiful mind genius guys.\",\n",
       " 'Sheldon: Yeah.',\n",
       " 'Penny: This is really impressive.',\n",
       " 'Leonard: I have a board. If you like boards, this is my board.',\n",
       " 'Penny: Holy smokes.',\n",
       " \"Sheldon: If by holy smokes you mean a derivative restatement of the kind of stuff you can find scribbled on the wall of any men's room at MIT, sure.\",\n",
       " 'Leonard: What?',\n",
       " \"Sheldon: Oh, come on. Who hasn't seen this differential below â\\x80\\x9chere I sit broken hearted?â\\x80\\x9d\",\n",
       " \"Leonard: At least I didn't have to invent twenty-six dimensions just to make the math come out.\",\n",
       " \"Sheldon: I didn't invent them, they're there.\",\n",
       " 'Leonard: In what universe?',\n",
       " 'Sheldon: In all of them, that is the point.',\n",
       " 'Penny: Uh, do you guys mind if I start?',\n",
       " \"Sheldon: Um, Penny, that's where I sit.\",\n",
       " 'Penny: So, sit next to me.',\n",
       " 'Sheldon: No, I sit there.',\n",
       " \"Penny: What's the difference?\",\n",
       " \"Sheldon: What's the difference?\",\n",
       " 'Leonard: Here we go.',\n",
       " \"Sheldon: In the winter that seat is close enough to the radiator to remain warm, and yet not so close as to cause perspiration. In the summer it's directly in the path of a cross breeze created by open windows there, and there. It faces the television at an angle that is neither direct, thus discouraging conversation, nor so far wide to create a parallax distortion, I could go on, but I think I've made my point.\",\n",
       " 'Penny: Do you want me to move?',\n",
       " 'Sheldon: Well.',\n",
       " 'Leonard: Just sit somewhere else.',\n",
       " 'Sheldon: Fine. (Wanders in circles, looking lost.)',\n",
       " 'Leonard: Sheldon, sit!',\n",
       " 'Sheldon: Aaah!',\n",
       " \"Leonard: Well this is nice. We don't have a lot of company over.\",\n",
       " \"Sheldon: That's not true. Koothrapali and Wolowitz come over all the time.\",\n",
       " 'Leonard: Yes I now, butâ\\x80¦',\n",
       " 'Sheldon: Tuesday night we played Klingon boggle until one in the morning.',\n",
       " 'Leonard: Yes, I remember.',\n",
       " \"Sheldon: I resent you saying we don't\"]"
      ]
     },
     "execution_count": 34,
     "metadata": {},
     "output_type": "execute_result"
    }
   ],
   "source": [
    "x"
   ]
  }
 ],
 "metadata": {
  "kernelspec": {
   "display_name": "Python 3",
   "language": "python",
   "name": "python3"
  },
  "language_info": {
   "codemirror_mode": {
    "name": "ipython",
    "version": 3
   },
   "file_extension": ".py",
   "mimetype": "text/x-python",
   "name": "python",
   "nbconvert_exporter": "python",
   "pygments_lexer": "ipython3",
   "version": "3.6.8"
  }
 },
 "nbformat": 4,
 "nbformat_minor": 2
}
