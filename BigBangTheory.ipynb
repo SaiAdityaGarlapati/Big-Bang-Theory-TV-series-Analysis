{
 "cells": [
  {
   "cell_type": "code",
   "execution_count": 1,
   "metadata": {},
   "outputs": [
    {
     "name": "stdout",
     "output_type": "stream",
     "text": [
      "Collecting bs4\n",
      "  Downloading https://files.pythonhosted.org/packages/10/ed/7e8b97591f6f456174139ec089c769f89a94a1a4025fe967691de971f314/bs4-0.0.1.tar.gz\n",
      "Collecting beautifulsoup4 (from bs4)\n",
      "  Downloading https://files.pythonhosted.org/packages/1d/5d/3260694a59df0ec52f8b4883f5d23b130bc237602a1411fa670eae12351e/beautifulsoup4-4.7.1-py3-none-any.whl (94kB)\n",
      "Collecting soupsieve>=1.2 (from beautifulsoup4->bs4)\n",
      "  Downloading https://files.pythonhosted.org/packages/77/78/bca00cc9fa70bba1226ee70a42bf375c4e048fe69066a0d9b5e69bc2a79a/soupsieve-1.8-py2.py3-none-any.whl (88kB)\n",
      "Building wheels for collected packages: bs4\n",
      "  Building wheel for bs4 (setup.py): started\n",
      "  Building wheel for bs4 (setup.py): finished with status 'done'\n",
      "  Stored in directory: C:\\Users\\Aditya\\AppData\\Local\\pip\\Cache\\wheels\\a0\\b0\\b2\\4f80b9456b87abedbc0bf2d52235414c3467d8889be38dd472\n",
      "Successfully built bs4\n",
      "Installing collected packages: soupsieve, beautifulsoup4, bs4\n",
      "Successfully installed beautifulsoup4-4.7.1 bs4-0.0.1 soupsieve-1.8\n"
     ]
    }
   ],
   "source": [
    "!pip install bs4"
   ]
  },
  {
   "cell_type": "code",
   "execution_count": 2,
   "metadata": {},
   "outputs": [
    {
     "name": "stdout",
     "output_type": "stream",
     "text": [
      "Collecting selenium\n",
      "  Using cached https://files.pythonhosted.org/packages/80/d6/4294f0b4bce4de0abf13e17190289f9d0613b0a44e5dd6a7f5ca98459853/selenium-3.141.0-py2.py3-none-any.whl\n",
      "Requirement already satisfied: urllib3 in c:\\users\\aditya\\anaconda3\\envs\\tf_gpu\\lib\\site-packages (from selenium) (1.24.1)\n",
      "Installing collected packages: selenium\n",
      "Successfully installed selenium-3.141.0\n"
     ]
    }
   ],
   "source": [
    "!pip install selenium"
   ]
  },
  {
   "cell_type": "code",
   "execution_count": 1,
   "metadata": {},
   "outputs": [],
   "source": [
    "# -*- coding: utf-8 -*-\n",
    "import pandas as pd\n",
    "import bs4\n",
    "import selenium\n",
    "import requests\n",
    "from selenium import webdriver\n",
    "import re"
   ]
  },
  {
   "cell_type": "code",
   "execution_count": 7,
   "metadata": {},
   "outputs": [],
   "source": [
    "browser=webdriver.Chrome(\"chromedriver\")\n",
    "browser1=webdriver.Chrome(\"chromedriver\")\n",
    "url=\"https://bigbangtrans.wordpress.com/\"\n",
    "browser.get(url)"
   ]
  },
  {
   "cell_type": "code",
   "execution_count": 8,
   "metadata": {},
   "outputs": [],
   "source": [
    "bbt_urls=pd.DataFrame(columns=['season_eps','url'])"
   ]
  },
  {
   "cell_type": "markdown",
   "metadata": {},
   "source": [
    "Browsing through the main page and fetching the urls and storing into dataframe"
   ]
  },
  {
   "cell_type": "code",
   "execution_count": 9,
   "metadata": {},
   "outputs": [],
   "source": [
    "urls=browser.find_elements_by_css_selector('li.page_item')\n",
    "for url in urls:\n",
    "    se_ep=url.text\n",
    "    temp=url.find_element_by_css_selector('a').get_attribute('href')\n",
    "    bbt_urls=bbt_urls.append({'season_eps':se_ep,'url':temp},ignore_index=True)\n",
    "    "
   ]
  },
  {
   "cell_type": "markdown",
   "metadata": {},
   "source": [
    "Once Url fetching is done, looping through urls getting the relavent text and appending it into a new and final dataframe"
   ]
  },
  {
   "cell_type": "code",
   "execution_count": 10,
   "metadata": {},
   "outputs": [],
   "source": [
    "final=pd.DataFrame(columns=['season_eps','text'])"
   ]
  },
  {
   "cell_type": "code",
   "execution_count": 15,
   "metadata": {},
   "outputs": [],
   "source": [
    "for url,season in zip(bbt_urls.url,bbt_urls.season_eps):\n",
    "    browser1.get(url)\n",
    "    text=browser1.find_element_by_css_selector('div.entrytext').text\n",
    "    final=final.append({'season_eps':season,'text':text},ignore_index=True)"
   ]
  },
  {
   "cell_type": "code",
   "execution_count": 16,
   "metadata": {},
   "outputs": [],
   "source": [
    "final.to_csv('bbt_encoded_utf8.csv')"
   ]
  },
  {
   "cell_type": "code",
   "execution_count": 17,
   "metadata": {},
   "outputs": [
    {
     "data": {
      "text/plain": [
       "Index(['season_eps', 'text'], dtype='object')"
      ]
     },
     "execution_count": 17,
     "metadata": {},
     "output_type": "execute_result"
    }
   ],
   "source": [
    "final.columns"
   ]
  },
  {
   "cell_type": "code",
   "execution_count": 11,
   "metadata": {},
   "outputs": [
    {
     "data": {
      "text/plain": [
       "232"
      ]
     },
     "execution_count": 11,
     "metadata": {},
     "output_type": "execute_result"
    }
   ],
   "source": [
    "final.shape[0]"
   ]
  },
  {
   "cell_type": "code",
   "execution_count": 2,
   "metadata": {},
   "outputs": [],
   "source": [
    "final_1 = pd.read_csv('bbt_encoded_utf8.csv')"
   ]
  },
  {
   "cell_type": "code",
   "execution_count": 13,
   "metadata": {},
   "outputs": [],
   "source": [
    "\n",
    "for i,j in zip(final['season_eps'],final['text']):\n",
    "    i = i.replace(\"/\", \"\")\n",
    "    f = open(i+\".txt\", \"w\")\n",
    "    f.write(str(j))\n"
   ]
  },
  {
   "cell_type": "code",
   "execution_count": 14,
   "metadata": {},
   "outputs": [
    {
     "data": {
      "text/plain": [
       "<function TextIOWrapper.close()>"
      ]
     },
     "execution_count": 14,
     "metadata": {},
     "output_type": "execute_result"
    }
   ],
   "source": [
    "f.close"
   ]
  },
  {
   "cell_type": "code",
   "execution_count": 18,
   "metadata": {},
   "outputs": [
    {
     "data": {
      "text/plain": [
       "0      b'Hi Folks.\\nThis is Ash here, and I administe...\n",
       "1      b'Scene: A corridor at a sperm bank.\\nSheldon:...\n",
       "2      b'Scene: Sheldon and Leonard\\xe2\\x80\\x99s apar...\n",
       "3      b'Scene: Sheldon and Leonard\\xe2\\x80\\x99s apar...\n",
       "4      b'Scene: Sheldon and Leonard\\xe2\\x80\\x99s apar...\n",
       "5      b'Scene: The Cheesecake Factory\\nSheldon: Alri...\n",
       "6      b'Scene: Lobby of the apartment building, Howa...\n",
       "7      b'Scene: The apartment, the living room.\\nHowa...\n",
       "8      b'Scene: The Apartment.\\nSheldon: Damn you, wa...\n",
       "9      b'Scene: The apartment, Leonard is attaching s...\n",
       "10     b'Scene: The downstairs lobby.\\nLeonard: See, ...\n",
       "11     b'Scene: The living room of the apartment. Leo...\n",
       "12     b'Scene: The University cafeteria.\\nSheldon: H...\n",
       "13     b'Scene: The apartment. Howard is looking at h...\n",
       "14     b'Scene: The apartment.\\nSheldon: Well, this s...\n",
       "15     b'Scene: A corridor at the University.\\nLeonar...\n",
       "16     b'Scene: The Cheesecake Factory. Raj and Sheld...\n",
       "17     b'Scene: The apartment living room\\nSheldon: W...\n",
       "18     b'Scene: The stairwell.\\nLeonard: So you see, ...\n",
       "19     b'Scene: The building entrance lobby. The guys...\n",
       "20     b'Scene: The apartment. Sheldon is on the sofa...\n",
       "21     b'Scene: The apartment. Leonard is sorting out...\n",
       "22     b'Scene: The apartment. Leonard enters, drops ...\n",
       "23     b'Scene: A lecture room at the university.\\nLe...\n",
       "24     b'Scene: The apartment. The guys are playing B...\n",
       "25     b'Scene: The apartment.\\nSheldon: Oh look, Sat...\n",
       "26     b'Scene: The lobby.\\nSheldon: Penny, hello.\\nP...\n",
       "27     b'Scene: The apartment.\\nSteph: I don\\xe2\\x80\\...\n",
       "28     b'Scene: The university cafeteria.\\nSheldon: Y...\n",
       "29     b'Scene: The apartment.\\n  Howard: All right, ...\n",
       "                             ...                        \n",
       "434    Scene: The apartment.\\nAmy (on Skype): I didn’...\n",
       "435    Scene: The apartment (initially inside a virtu...\n",
       "436    Scene: The comic book store.\\nSheldon: I have ...\n",
       "437    Scene: The apartment\\nPenny: Oh, hey, if you g...\n",
       "438    Scene: The apartment.\\nPenny: Helium.\\nSheldon...\n",
       "439    Scene: Leonard and Penny’s bedroom.\\nLeonard: ...\n",
       "440    Following a “previously on” sequence.\\nSceme: ...\n",
       "441    Following a “previously on” sequence.\\nScene: ...\n",
       "442    Scene: The new laboratory.\\nHoward: It’s prett...\n",
       "443    Scene: The foyer.\\nAmy: And there was water ev...\n",
       "444    Following a previously on scene…\\nScene: The a...\n",
       "445    Scene: The apartment.\\nPenny: Hey, have you ev...\n",
       "446    Scene: Sheldon and Amy’s apartment.\\nSheldon: ...\n",
       "447    Scene: Amy’s lab.\\nSheldon: How much will it h...\n",
       "448    Scene: The cafeteria.\\nBert: Thank you very mu...\n",
       "449    Scene: Sheldon and Amy’s apartment.\\nAmy: If w...\n",
       "450    After a “previously on” sequence…\\nScene: Howa...\n",
       "451    Scene: The apartment.\\nPenny: Hey, can you hel...\n",
       "452    After a previously on sequence.\\nScene: The ap...\n",
       "453    Scene: The stairwell.\\nLeonard: What’s going o...\n",
       "454    Scene: The laboratory.\\nHoward: Okay, I’m zero...\n",
       "455    Scene: The apartment.\\nHoward: Go. Come on, Ra...\n",
       "456    Following a “previously on” sequence:\\nScene: ...\n",
       "457    Scene: The apartment.\\nLeonard: Aw, man, did y...\n",
       "458    Scene: The apartment.\\nRaj: You know, downward...\n",
       "459    Scene: The apartment.\\nPenny: Hey, Leonard, if...\n",
       "460    Scene: Sheldon and Amy’s apartment.\\nSheldon: ...\n",
       "461    Scene: The apartment.\\nLeonard: We’re pinned d...\n",
       "462    After a “previously on” segment.\\nScene: The a...\n",
       "463    Following a “previously on” sequence.\\nScene: ...\n",
       "Name: text, Length: 464, dtype: object"
      ]
     },
     "execution_count": 18,
     "metadata": {},
     "output_type": "execute_result"
    }
   ],
   "source": [
    "final['text']"
   ]
  },
  {
   "cell_type": "code",
   "execution_count": 8,
   "metadata": {},
   "outputs": [
    {
     "data": {
      "text/plain": [
       "0    hi folks.this is ash here, and i administer th...\n",
       "1    scene: a corridor at a sperm bank.sheldon: so ...\n",
       "2    scene: sheldon and leonards apartment. sheldon...\n",
       "3    scene: sheldon and leonards apartment. sheldon...\n",
       "4    scene: sheldon and leonards apartment.sheldon:...\n",
       "Name: text, dtype: object"
      ]
     },
     "execution_count": 8,
     "metadata": {},
     "output_type": "execute_result"
    }
   ],
   "source": [
    "docs =final['text'].fillna('').str.lower()\n",
    "docs = docs.str.replace('[^a-z,.: ]','')\n",
    "docs.head()"
   ]
  },
  {
   "cell_type": "code",
   "execution_count": 10,
   "metadata": {},
   "outputs": [],
   "source": [
    "x = pd.Series(['Fill these out.\\nLeonard: Thank-you. We\\xe2\\x80\\x99ll be right back.\\nReceptionist: Oh, take your time. I\\xe2\\x80\\x99ll just finish my crossword puzzle. Oh wait.\\n(They sit and begin to fill in forms).\\nSheldon: Leonard, I don\\xe2\\x80\\x99t think I can do this.\\nLeonard: What, are you kidding? You\\xe2\\x80\\x99re a semi-pro.\\nSheldon: No. We are committing genetic fraud. There\\xe2\\x80\\x99s no guarantee that our sperm is going to generate high IQ offspring, think about that. I have a sister with the same basic DNA mix who hostesses at Fuddruckers.\\nLeonard: Sheldon, this was your idea. A little extra money to get fractional T1 bandwidth in the apartment.\\nSheldon: I know, and I do yearn for faster downloads, but there\\xe2\\x80\\x99s some poor woman is going to pin her hopes on my sperm, what if she winds up with a toddler who doesn\\xe2\\x80\\x99t know if he should use an integral or a differential to solve the area under a curve.\\nLeonard: I\\xe2\\x80\\x99m sure she\\xe2\\x80\\x99ll still love him.\\nSheldon: I wouldn\\xe2\\x80\\x99t.\\nLeonard: Well, what do you want to do?\\nSheldon: I want to leave.\\nLeonard: Okay.\\nSheldon: What\\xe2\\x80\\x99s the protocol for leaving?\\nLeonard: I don\\xe2\\x80\\x99t know, I\\xe2\\x80\\x99ve never reneged on a proffer of sperm before.\\nSheldon: Let\\xe2\\x80\\x99s try just walking out.\\nLeonard: Okay.\\n\\nReceptionist: Bye.\\nSheldon: Bye-bye\\nLeonard: See you.\\nScene: The stairs of the apartment building.\\nSheldon: Are you still mad about the sperm bank?\\nLeonard: No.\\nSheldon: You want to hear an interesting thing about stairs?\\nLeonard: Not really.\\nSheldon: If the height of a single step is off by as little as two millimetres, most people will trip.\\nLeonard: I don\\xe2\\x80\\x99t care. Two millimetres? That doesn\\xe2\\x80\\x99t seem right.\\nSheldon: No, it\\xe2\\x80\\x99s true, I did a series of experiments when I was twelve, my father broke his clavicle.\\nLeonard: Is that why they sent you to boarding school?\\nSheldon: No, that was the result of my work with lasers.\\nLeonard: New neighbour?\\nSheldon: Evidently.\\nLeonard: Significant improvement over the old neighbour.\\nSheldon: Two hundred pound transvestite with a skin condition, yes she is.\\nPenny: Oh, hi!\\nLeonard: Hi.\\nSheldon: Hi.\\nLeonard: Hi.\\nSheldon: Hi.\\nPenny: Hi?\\nLeonard: We don\\xe2\\x80\\x99t mean to interrupt, we live across the hall.\\nPenny: Oh, that\\xe2\\x80\\x99s nice.\\nLeonard: Oh\\xe2\\x80\\xa6 uh\\xe2\\x80\\xa6 no\\xe2\\x80\\xa6 we don\\xe2\\x80\\x99t live together\\xe2\\x80\\xa6 um\\xe2\\x80\\xa6 we live together but in separate, heterosexual bedrooms.\\nPenny: Oh, okay, well, guess I\\xe2\\x80\\x99m your new neighbour, Penny.\\nLeonard: Leonard, Sheldon.\\nPenny: Hi.\\nLeonard: Hi.\\nSheldon: Hi.\\nPenny: Hi.\\nLeonard: Hi. Well, uh, oh, welcome to the building.\\nPenny: Thankyou, maybe we can have coffee sometime.\\nLeonard: Oh, great.\\nPenny: Great.\\nSheldon: Great.\\nLeonard: Great. Well, bye.\\nPenny: Bye.\\nSheldon: Bye.\\nLeonard: Bye.\\nLeonard: Should we have invited her for lunch?\\nSheldon: No. We\\xe2\\x80\\x99re going to start Season Two of Battlestar Galactica.\\nLeonard: We already watched the Season Two DVDs.\\nSheldon: Not with commentary.\\nLeonard: I think we should be good neighbours, invite her over, make her feel welcome.\\nSheldon: We never invited Louis-slash-Louise over.\\nLeonard: Well, then that was wrong of us. We need to widen our circle.\\nSheldon: I have a very wide circle. I have 212 friends on myspace.\\nLeonard: Yes, and you\\xe2\\x80\\x99ve never met one of them.\\nSheldon: That\\xe2\\x80\\x99s the beauty of it.\\nLeonard: I\\xe2\\x80\\x99m going to invite her over. We\\xe2\\x80\\x99ll have a nice meal and chat.\\nSheldon: Chat? We don\\xe2\\x80\\x99t chat. At least not offline.\\nLeonard: Well it\\xe2\\x80\\x99s not difficult, you just listen to what she says and then you say something appropriate in response.\\nSheldon: To what end?\\nLeonard: Hi. Again.\\nPenny: Hi.\\nSheldon: Hi.\\nLeonard: Hi.\\nPenny: Hi.\\nLeonard: Anyway, um. We brought home Indian food. And, um. I know that moving can be stressful, and I find that when I\\xe2\\x80\\x99m undergoing stress, that good food and company can have a comforting effect. Also, curry is a natural laxative, and I don\\xe2\\x80\\x99t have to tell you that, uh, a clean colon is just one less thing to worry about.\\nSheldon: Leonard, I\\xe2\\x80\\x99m not expert here but I believe in the context of a luncheon invitation, you might want to skip the reference to bowel movements.\\nPenny: Oh, you\\xe2\\x80\\x99re inviting me over to eat?\\nLeonard: Uh, yes.\\nPenny: Oh, that\\xe2\\x80\\x99s so nice, I\\xe2\\x80\\x99d love to.\\nLeonard: Great.\\nPenny: So, what do you guys do for fun around here?\\nSheldon: Well, today we tried masturbating for money.\\nCredits sequence.\\nScene: Sheldon and Leonard\\xe2\\x80\\x99s apartment.\\nLeonard: Okay, well, make yourself at home.\\nPenny: Okay, thankyou.\\nLeonard: You\\xe2\\x80\\x99re very welcome.\\nPenny: This looks like some serious stuff, Leonard, did you do this?\\nSheldon: Actually that\\xe2\\x80\\x99s my work.\\nPenny: Wow.\\nSheldon: Yeah, well, it\\xe2\\x80\\x99s just some quantum mechanics, with a little string theory doodling around the edges. That part there, that\\xe2\\x80\\x99s just a joke, it\\xe2\\x80\\x99s a spoof of the Bourne-Oppenheimer approximation.\\nPenny: So you\\xe2\\x80\\x99re like, one of those, beautiful mind genius guys.\\nSheldon: Yeah.\\nPenny: This is really impressive.\\nLeonard: I have a board. If you like boards, this is my board.\\nPenny: Holy smokes.\\nSheldon: If by holy smokes you mean a derivative restatement of the kind of stuff you can find scribbled on the wall of any men\\xe2\\x80\\x99s room at MIT, sure.\\nLeonard: What?\\nSheldon: Oh, come on. Who hasn\\xe2\\x80\\x99t seen this differential below \\xe2\\x80\\x9chere I sit broken hearted?\\xe2\\x80\\x9d\\nLeonard: At least I didn\\xe2\\x80\\x99t have to invent twenty-six dimensions just to make the math come out.\\nSheldon: I didn\\xe2\\x80\\x99t invent them, they\\xe2\\x80\\x99re there.\\nLeonard: In what universe?\\nSheldon: In all of them, that is the point.\\nPenny: Uh, do you guys mind if I start?\\nSheldon: Um, Penny, that\\xe2\\x80\\x99s where I sit.\\nPenny: So, sit next to me.\\nSheldon: No, I sit there.\\nPenny: What\\xe2\\x80\\x99s the difference?\\nSheldon: What\\xe2\\x80\\x99s the difference?\\nLeonard: Here we go.\\nSheldon: In the winter that seat is close enough to the radiator to remain warm, and yet not so close as to cause perspiration. In the summer it\\xe2\\x80\\x99s directly in the path of a cross breeze created by open windows there, and there. It faces the television at an angle that is neither direct, thus discouraging conversation, nor so far wide to create a parallax distortion, I could go on, but I think I\\xe2\\x80\\x99ve made my point.\\nPenny: Do you want me to move?\\nSheldon: Well.\\nLeonard: Just sit somewhere else.\\nSheldon: Fine. (Wanders in circles, looking lost.)\\nLeonard: Sheldon, sit!\\nSheldon: Aaah!\\nLeonard: Well this is nice. We don\\xe2\\x80\\x99t have a lot of company over.\\nSheldon: That\\xe2\\x80\\x99s not true. Koothrapali and Wolowitz come over all the time.\\nLeonard: Yes I now, but\\xe2\\x80\\xa6\\nSheldon: Tuesday night we played Klingon boggle until one in the morning.\\nLeonard: Yes, I remember.\\nSheldon: I resent you saying we don\\xe2\\x80\\x99t'])"
   ]
  },
  {
   "cell_type": "code",
   "execution_count": 26,
   "metadata": {},
   "outputs": [
    {
     "data": {
      "text/plain": [
       "'Fill these out.\\nLeonard: Thank-you. Weâ\\x80\\x99ll be right back.\\nReceptionist: Oh, take your time. Iâ\\x80\\x99ll '"
      ]
     },
     "execution_count": 26,
     "metadata": {},
     "output_type": "execute_result"
    }
   ],
   "source": [
    "x.values[0][:100]"
   ]
  },
  {
   "cell_type": "code",
   "execution_count": 32,
   "metadata": {},
   "outputs": [],
   "source": [
    "x=x.str.replace('â\\x80\\x99', \"'\").values[0]\n"
   ]
  },
  {
   "cell_type": "code",
   "execution_count": 33,
   "metadata": {},
   "outputs": [],
   "source": [
    "x=x.split('\\n')"
   ]
  },
  {
   "cell_type": "code",
   "execution_count": 4,
   "metadata": {},
   "outputs": [
    {
     "ename": "NameError",
     "evalue": "name 'bbt_urls' is not defined",
     "output_type": "error",
     "traceback": [
      "\u001b[1;31m---------------------------------------------------------------------------\u001b[0m",
      "\u001b[1;31mNameError\u001b[0m                                 Traceback (most recent call last)",
      "\u001b[1;32m<ipython-input-4-11d43d5f1b7f>\u001b[0m in \u001b[0;36m<module>\u001b[1;34m\u001b[0m\n\u001b[1;32m----> 1\u001b[1;33m \u001b[0mbbt_urls\u001b[0m\u001b[1;33m\u001b[0m\u001b[1;33m\u001b[0m\u001b[0m\n\u001b[0m",
      "\u001b[1;31mNameError\u001b[0m: name 'bbt_urls' is not defined"
     ]
    }
   ],
   "source": [
    "bbt_urls"
   ]
  }
 ],
 "metadata": {
  "kernelspec": {
   "display_name": "Python 3",
   "language": "python",
   "name": "python3"
  },
  "language_info": {
   "codemirror_mode": {
    "name": "ipython",
    "version": 3
   },
   "file_extension": ".py",
   "mimetype": "text/x-python",
   "name": "python",
   "nbconvert_exporter": "python",
   "pygments_lexer": "ipython3",
   "version": "3.6.8"
  }
 },
 "nbformat": 4,
 "nbformat_minor": 2
}
