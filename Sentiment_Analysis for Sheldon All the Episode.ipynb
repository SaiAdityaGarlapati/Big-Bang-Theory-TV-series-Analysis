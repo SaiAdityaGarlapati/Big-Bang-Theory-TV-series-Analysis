{
 "cells": [
  {
   "cell_type": "code",
   "execution_count": 5,
   "metadata": {},
   "outputs": [
    {
     "name": "stdout",
     "output_type": "stream",
     "text": [
      "Collecting matplotlib.pyplot\n"
     ]
    },
    {
     "name": "stderr",
     "output_type": "stream",
     "text": [
      "  Could not find a version that satisfies the requirement matplotlib.pyplot (from versions: )\n",
      "No matching distribution found for matplotlib.pyplot\n"
     ]
    }
   ],
   "source": [
    "import pandas as pd\n",
    "import numpy as np\n",
    "import nltk\n",
    "!pip install matplotlib.pyplot\n",
    "from wordcloud import WordCloud\n",
    "#import matplotlib.pyplot as plt"
   ]
  },
  {
   "cell_type": "code",
   "execution_count": 6,
   "metadata": {},
   "outputs": [
    {
     "data": {
      "text/plain": [
       "0.016666666666666666"
      ]
     },
     "execution_count": 6,
     "metadata": {},
     "output_type": "execute_result"
    }
   ],
   "source": [
    "500/(100*300)"
   ]
  },
  {
   "cell_type": "code",
   "execution_count": null,
   "metadata": {},
   "outputs": [],
   "source": [
    "dialogues = pd.read_csv(\"dialogues_bigbangtheory.csv\")"
   ]
  },
  {
   "cell_type": "code",
   "execution_count": null,
   "metadata": {},
   "outputs": [],
   "source": [
    "dialogues.head()"
   ]
  },
  {
   "cell_type": "code",
   "execution_count": null,
   "metadata": {},
   "outputs": [],
   "source": [
    "sheldon_dialogues = dialogues[dialogues['character']=='Sheldon']"
   ]
  },
  {
   "cell_type": "code",
   "execution_count": null,
   "metadata": {},
   "outputs": [],
   "source": [
    "sheldon_dialogues.head()"
   ]
  },
  {
   "cell_type": "code",
   "execution_count": null,
   "metadata": {},
   "outputs": [],
   "source": [
    "sheldon_dialogues.shape[0]"
   ]
  },
  {
   "cell_type": "code",
   "execution_count": null,
   "metadata": {},
   "outputs": [],
   "source": [
    "input_string2 = ' '.join(sheldon_dialogues['dialogue'])\n",
    "wc = WordCloud(background_color = \"Black\").generate(input_string2)\n",
    "plt.imshow(wc)"
   ]
  },
  {
   "cell_type": "code",
   "execution_count": null,
   "metadata": {},
   "outputs": [],
   "source": [
    "docs = sheldon_dialogues['dialogue'].str.lower().str.replace('[^a-z ]', '')\n",
    "docs.head()"
   ]
  },
  {
   "cell_type": "code",
   "execution_count": null,
   "metadata": {},
   "outputs": [],
   "source": [
    "stopwords = nltk.corpus.stopwords.words('english')\n",
    "stopwords[:5]"
   ]
  },
  {
   "cell_type": "code",
   "execution_count": null,
   "metadata": {},
   "outputs": [],
   "source": [
    "stemmer = nltk.stem.PorterStemmer()"
   ]
  },
  {
   "cell_type": "code",
   "execution_count": null,
   "metadata": {},
   "outputs": [],
   "source": [
    "docs=sheldon_dialogues['dialogue'].str.lower().str.replace('[^a-z ]','')\n",
    "docs_clean2=[]\n",
    "def clean_sentence(text):\n",
    "    words=text.split(' ')\n",
    "    words_clean2 = [stemmer.stem(word) for word in words if word not in stopwords]\n",
    "    return ' '.join(words_clean2)\n",
    "docs_clean2 = docs.apply(clean_sentence)\n",
    "docs_clean2.head()"
   ]
  },
  {
   "cell_type": "code",
   "execution_count": null,
   "metadata": {},
   "outputs": [],
   "source": [
    "docs_clean2.iloc[1]"
   ]
  },
  {
   "cell_type": "code",
   "execution_count": null,
   "metadata": {},
   "outputs": [],
   "source": [
    "from sklearn.feature_extraction.text import CountVectorizer\n",
    "\n",
    "vectorizer = CountVectorizer(10)\n",
    "vectorizer.fit(docs_clean2)\n",
    "dtm = vectorizer.transform(docs_clean2)\n",
    "dtm"
   ]
  },
  {
   "cell_type": "code",
   "execution_count": null,
   "metadata": {},
   "outputs": [],
   "source": [
    "no_of_zeros = (11359*10138 ) - 84319 \n",
    "sparsity = (no_of_zeros) / (11359*10138 ) * 100\n",
    "sparsity"
   ]
  },
  {
   "cell_type": "code",
   "execution_count": null,
   "metadata": {},
   "outputs": [],
   "source": [
    "df_dtm = pd.DataFrame(dtm.toarray(),\n",
    "                     columns = vectorizer.get_feature_names())\n",
    "(df_dtm == 0).sum().sum()"
   ]
  },
  {
   "cell_type": "code",
   "execution_count": null,
   "metadata": {},
   "outputs": [],
   "source": [
    " (11359*10138 ) - 84319"
   ]
  },
  {
   "cell_type": "code",
   "execution_count": null,
   "metadata": {},
   "outputs": [],
   "source": [
    "from nltk.sentiment import SentimentIntensityAnalyzer\n",
    "def get_sentiment_sheldon(text):\n",
    "    sentiment = SentimentIntensityAnalyzer()\n",
    "    compound = sentiment.polarity_scores(text)['compound']\n",
    "    if compound > 0.05:\n",
    "        return 'Positive'\n",
    "    elif compound < -0.05:\n",
    "        return 'Negative'\n",
    "    else:\n",
    "        return 'Neutral'\n",
    "sheldon_dialogues['sentiment_vader'] = sheldon_dialogues['dialogue'].apply(get_sentiment_sheldon)"
   ]
  },
  {
   "cell_type": "code",
   "execution_count": null,
   "metadata": {},
   "outputs": [],
   "source": [
    "sheldon_dialogues['sentiment_vader'].value_counts()"
   ]
  },
  {
   "cell_type": "code",
   "execution_count": null,
   "metadata": {},
   "outputs": [],
   "source": [
    "sheldon_dialogues.columns"
   ]
  },
  {
   "cell_type": "code",
   "execution_count": null,
   "metadata": {},
   "outputs": [],
   "source": [
    "sheldon_dialogues.head()"
   ]
  },
  {
   "cell_type": "code",
   "execution_count": null,
   "metadata": {},
   "outputs": [],
   "source": [
    "df_plot=sheldon_dialogues[['season_id', 'sentiment_vader','dialogue']].groupby(['season_id', 'sentiment_vader']).count()"
   ]
  },
  {
   "cell_type": "code",
   "execution_count": null,
   "metadata": {},
   "outputs": [],
   "source": [
    "df_plot = df_plot.reset_index()"
   ]
  },
  {
   "cell_type": "code",
   "execution_count": null,
   "metadata": {},
   "outputs": [],
   "source": [
    "df_plot.head()"
   ]
  },
  {
   "cell_type": "code",
   "execution_count": null,
   "metadata": {},
   "outputs": [],
   "source": [
    "import seaborn as sns"
   ]
  },
  {
   "cell_type": "code",
   "execution_count": null,
   "metadata": {},
   "outputs": [],
   "source": [
    "sns.lineplot(x='season_id',y='dialogue',hue='sentiment_vader',data=df_plot)\n",
    "plt.xticks(rotation='vertical')\n",
    "plt.legend(bbox_to_anchor=(1.5, 1))"
   ]
  },
  {
   "cell_type": "code",
   "execution_count": null,
   "metadata": {},
   "outputs": [],
   "source": [
    "df_plot1=sheldon_dialogues.groupby(['episode_no', 'sentiment_vader']).count()\n",
    "df_plot1 = df_plot1.reset_index()"
   ]
  },
  {
   "cell_type": "code",
   "execution_count": null,
   "metadata": {},
   "outputs": [],
   "source": [
    "fig = plt.figure(figsize=(20,10))\n",
    "sns.lineplot(x='episode_no',y='dialogue',hue='sentiment_vader',data=df_plot1)\n",
    "plt.xticks([])\n",
    "#plt.locator_params(numticks=15)\n",
    "plt.legend(bbox_to_anchor=(0.9, 0.9))"
   ]
  },
  {
   "cell_type": "code",
   "execution_count": null,
   "metadata": {},
   "outputs": [],
   "source": [
    "fig = plt.figure(figsize=(10,6))\n",
    "sns.scatterplot(x='episode_no',y='dialogue',size='dialogue',hue='sentiment_vader',data=df_plot1)\n",
    "plt.xticks([])\n",
    "plt.legend(bbox_to_anchor=(1.1, 1))"
   ]
  },
  {
   "cell_type": "code",
   "execution_count": null,
   "metadata": {},
   "outputs": [],
   "source": [
    "from nltk.sentiment import SentimentIntensityAnalyzer\n",
    "def get_sentiment_agg(text):\n",
    "    sentiment = SentimentIntensityAnalyzer()\n",
    "    compound = sentiment.polarity_scores(text)['compound']\n",
    "    return compound\n",
    "sheldon_dialogues['numerical_sentiment'] = sheldon_dialogues['dialogue'].apply(get_sentiment_agg)"
   ]
  },
  {
   "cell_type": "code",
   "execution_count": null,
   "metadata": {},
   "outputs": [],
   "source": [
    "df_plot_new=sheldon_dialogues[['season_id','numerical_sentiment']].groupby(['season_id']).sum()\n",
    "df_plot_new = df_plot_new.reset_index()"
   ]
  },
  {
   "cell_type": "code",
   "execution_count": null,
   "metadata": {},
   "outputs": [],
   "source": [
    "df_plot_new"
   ]
  },
  {
   "cell_type": "code",
   "execution_count": null,
   "metadata": {},
   "outputs": [],
   "source": [
    "sns.lineplot(x='season_id',y='numerical_sentiment',data=df_plot_new)\n",
    "plt.xticks(rotation='vertical')\n",
    "#plt.legend(bbox_to_anchor=(1.5, 1))"
   ]
  },
  {
   "cell_type": "code",
   "execution_count": null,
   "metadata": {},
   "outputs": [],
   "source": [
    "df_plot1_new=sheldon_dialogues[['episode_no','numerical_sentiment']].groupby(['episode_no']).sum()\n",
    "df_plot1_new = df_plot1_new.reset_index()"
   ]
  },
  {
   "cell_type": "code",
   "execution_count": null,
   "metadata": {},
   "outputs": [],
   "source": [
    "k=[]\n",
    "c=1\n",
    "for i in range(df_plot1_new.shape[0]):\n",
    "    c= c+1\n",
    "    k.append(c)\n",
    "    \n",
    "df_plot1_new['video_num'] = k"
   ]
  },
  {
   "cell_type": "code",
   "execution_count": null,
   "metadata": {},
   "outputs": [],
   "source": [
    "fig = plt.figure(figsize=(20,10))\n",
    "sns.lineplot(x='video_num',y='numerical_sentiment',data=df_plot1_new)"
   ]
  },
  {
   "cell_type": "code",
   "execution_count": null,
   "metadata": {},
   "outputs": [],
   "source": []
  },
  {
   "cell_type": "code",
   "execution_count": null,
   "metadata": {},
   "outputs": [],
   "source": []
  },
  {
   "cell_type": "code",
   "execution_count": null,
   "metadata": {},
   "outputs": [],
   "source": []
  }
 ],
 "metadata": {
  "kernelspec": {
   "display_name": "Python 3",
   "language": "python",
   "name": "python3"
  },
  "language_info": {
   "codemirror_mode": {
    "name": "ipython",
    "version": 3
   },
   "file_extension": ".py",
   "mimetype": "text/x-python",
   "name": "python",
   "nbconvert_exporter": "python",
   "pygments_lexer": "ipython3",
   "version": "3.6.8"
  }
 },
 "nbformat": 4,
 "nbformat_minor": 2
}
